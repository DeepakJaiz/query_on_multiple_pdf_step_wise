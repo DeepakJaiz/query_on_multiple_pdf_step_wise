{
 "cells": [
  {
   "cell_type": "code",
   "execution_count": 34,
   "id": "b47d5ca1",
   "metadata": {},
   "outputs": [],
   "source": [
    "from langchain.document_loaders import UnstructuredPDFLoader\n",
    "from langchain.text_splitter import CharacterTextSplitter\n",
    "from langchain.callbacks import get_openai_callback\n",
    "from langchain.vectorstores import Chroma\n",
    "from langchain.llms import OpenAI\n",
    "from langchain.chains import RetrievalQA\n",
    "from langchain.embeddings import OpenAIEmbeddings"
   ]
  },
  {
   "cell_type": "code",
   "execution_count": 73,
   "id": "44fb2aa3",
   "metadata": {},
   "outputs": [],
   "source": [
    "import os\n",
    "os.environ[\"LANGCHAIN_TRACING\"] = \"true\"\n",
    "os.environ[\"LANGCHAIN_SESSION\"] = \"pdf_query\"\n",
    "os.environ[\"OPENAI_API_KEY\"] = \"api key\""
   ]
  },
  {
   "cell_type": "code",
   "execution_count": 3,
   "id": "6464d04c",
   "metadata": {},
   "outputs": [
    {
     "name": "stdout",
     "output_type": "stream",
     "text": [
      "Tokens Used: 0\n",
      "\tPrompt Tokens: 0\n",
      "\tCompletion Tokens: 0\n",
      "Successful Requests: 0\n",
      "Total Cost (USD): $0.0\n"
     ]
    }
   ],
   "source": [
    "with get_openai_callback() as cb:\n",
    "    pdf_folder_path = \"data/\"\n",
    "    loaders = [UnstructuredPDFLoader(os.path.join(pdf_folder_path, fn)) for fn in os.listdir(pdf_folder_path)]\n",
    "    print(cb)"
   ]
  },
  {
   "cell_type": "code",
   "execution_count": 26,
   "id": "2c4a97c1",
   "metadata": {},
   "outputs": [],
   "source": [
    "text_splitter = CharacterTextSplitter(        \n",
    "    separator = \"\\n\\n\",\n",
    "    chunk_size = 1000,\n",
    "    chunk_overlap  = 200,\n",
    "    length_function = len,\n",
    ")"
   ]
  },
  {
   "cell_type": "code",
   "execution_count": 64,
   "id": "564a700b",
   "metadata": {
    "scrolled": true
   },
   "outputs": [
    {
     "name": "stdout",
     "output_type": "stream",
     "text": [
      "<langchain.vectorstores.chroma.Chroma object at 0x0000020CE7BA6E00>\n",
      "<langchain.vectorstores.chroma.Chroma object at 0x0000020CE7BA6E00>\n"
     ]
    }
   ],
   "source": [
    "persist_directory = 'db'\n",
    "for document in loaders:\n",
    "    data = document.load()\n",
    "    texts = text_splitter.split_documents(data)\n",
    "    embeddings = OpenAIEmbeddings()\n",
    "    \n",
    "    vectordb = Chroma.from_documents(documents=texts, \n",
    "                                 embedding=embeddings,\n",
    "                                 persist_directory=persist_directory)\n",
    "    vectordb.persist()\n",
    "    vectordb = Chroma(persist_directory=persist_directory, \n",
    "                  embedding_function=embeddings)\n",
    "    print(db)"
   ]
  },
  {
   "cell_type": "code",
   "execution_count": 65,
   "id": "7cb1ba3a",
   "metadata": {},
   "outputs": [],
   "source": [
    "retriever = vectordb.as_retriever()"
   ]
  },
  {
   "cell_type": "code",
   "execution_count": 66,
   "id": "8136afaa",
   "metadata": {},
   "outputs": [],
   "source": [
    "qa_chain = RetrievalQA.from_chain_type(llm=OpenAI(), \n",
    "                                  chain_type=\"stuff\", \n",
    "                                  retriever=retriever, \n",
    "                                  return_source_documents=True)"
   ]
  },
  {
   "cell_type": "code",
   "execution_count": 67,
   "id": "9f1b1974",
   "metadata": {},
   "outputs": [],
   "source": [
    "def process_llm_response(llm_response):\n",
    "    print(llm_response['result'])\n",
    "    print('\\n\\nSources:')\n",
    "    for source in llm_response[\"source_documents\"]:\n",
    "        print(source.metadata['source'])"
   ]
  },
  {
   "cell_type": "code",
   "execution_count": 70,
   "id": "8db00600",
   "metadata": {},
   "outputs": [
    {
     "name": "stderr",
     "output_type": "stream",
     "text": [
      "Error in LangChainTracerV1.on_chain_end callback: Unknown run type: retriever\n"
     ]
    },
    {
     "name": "stdout",
     "output_type": "stream",
     "text": [
      " Some applications of artificial intelligence include voice recognition, virtual agents, machine learning platforms, AI optimized hardware, decision management, deep learning platforms, biomatters, robotic process automation, text analytics and NLP, and adaptive manufacturing.\n",
      "\n",
      "\n",
      "Sources:\n",
      "data/ArtificialIntellegence.pdf\n",
      "data/ArtificialIntellegence.pdf\n",
      "data/ArtificialIntellegence.pdf\n",
      "data/ArtificialIntellegence.pdf\n",
      "Tokens Used: 1126\n",
      "\tPrompt Tokens: 1082\n",
      "\tCompletion Tokens: 44\n",
      "Successful Requests: 1\n",
      "Total Cost (USD): $0.022520000000000002\n"
     ]
    }
   ],
   "source": [
    "with get_openai_callback() as cb:\n",
    "    query = \"applications of artificial inteligence\"\n",
    "    llm_response = qa_chain(query)\n",
    "    process_llm_response(llm_response)\n",
    "    print(cb)"
   ]
  },
  {
   "cell_type": "code",
   "execution_count": null,
   "id": "fea4e544",
   "metadata": {},
   "outputs": [],
   "source": []
  },
  {
   "cell_type": "code",
   "execution_count": null,
   "id": "48801407",
   "metadata": {},
   "outputs": [],
   "source": []
  },
  {
   "cell_type": "code",
   "execution_count": null,
   "id": "1dfe47e9",
   "metadata": {},
   "outputs": [],
   "source": []
  },
  {
   "cell_type": "code",
   "execution_count": null,
   "id": "c7bd43db",
   "metadata": {},
   "outputs": [],
   "source": []
  },
  {
   "cell_type": "code",
   "execution_count": null,
   "id": "db3be24d",
   "metadata": {},
   "outputs": [],
   "source": []
  },
  {
   "cell_type": "code",
   "execution_count": null,
   "id": "02467d87",
   "metadata": {},
   "outputs": [],
   "source": []
  },
  {
   "cell_type": "code",
   "execution_count": null,
   "id": "ea4a466e",
   "metadata": {},
   "outputs": [],
   "source": []
  },
  {
   "cell_type": "code",
   "execution_count": null,
   "id": "3a37417c",
   "metadata": {},
   "outputs": [],
   "source": []
  },
  {
   "cell_type": "code",
   "execution_count": null,
   "id": "ef676679",
   "metadata": {},
   "outputs": [],
   "source": []
  }
 ],
 "metadata": {
  "kernelspec": {
   "display_name": "Python 3 (ipykernel)",
   "language": "python",
   "name": "python3"
  },
  "language_info": {
   "codemirror_mode": {
    "name": "ipython",
    "version": 3
   },
   "file_extension": ".py",
   "mimetype": "text/x-python",
   "name": "python",
   "nbconvert_exporter": "python",
   "pygments_lexer": "ipython3",
   "version": "3.10.9"
  }
 },
 "nbformat": 4,
 "nbformat_minor": 5
}
