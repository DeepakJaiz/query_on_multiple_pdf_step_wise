{
 "cells": [
  {
   "cell_type": "code",
   "execution_count": 34,
   "id": "986865d7",
   "metadata": {},
   "outputs": [],
   "source": [
    "from langchain.document_loaders import UnstructuredPDFLoader\n",
    "from langchain.text_splitter import CharacterTextSplitter\n",
    "from langchain.callbacks import get_openai_callback\n",
    "from langchain.vectorstores import Chroma\n",
    "from langchain.llms import OpenAI\n",
    "from langchain.chains import RetrievalQA\n",
    "from langchain.embeddings import OpenAIEmbeddings"
   ]
  },
  {
   "cell_type": "code",
   "execution_count": 63,
   "id": "639f923f",
   "metadata": {},
   "outputs": [],
   "source": [
    "import os\n",
    "os.environ[\"LANGCHAIN_TRACING\"] = \"true\"\n",
    "os.environ[\"LANGCHAIN_SESSION\"] = \"pdf_query\"\n",
    "os.environ[\"OPENAI_API_KEY\"] = \"api key\""
   ]
  },
  {
   "cell_type": "code",
   "execution_count": 3,
   "id": "91e3ede5",
   "metadata": {},
   "outputs": [
    {
     "name": "stdout",
     "output_type": "stream",
     "text": [
      "Tokens Used: 0\n",
      "\tPrompt Tokens: 0\n",
      "\tCompletion Tokens: 0\n",
      "Successful Requests: 0\n",
      "Total Cost (USD): $0.0\n"
     ]
    }
   ],
   "source": [
    "with get_openai_callback() as cb:\n",
    "    pdf_folder_path = \"data/\"\n",
    "    loaders = [UnstructuredPDFLoader(os.path.join(pdf_folder_path, fn)) for fn in os.listdir(pdf_folder_path)]\n",
    "    print(cb)"
   ]
  },
  {
   "cell_type": "code",
   "execution_count": 26,
   "id": "bd90137e",
   "metadata": {},
   "outputs": [],
   "source": [
    "text_splitter = CharacterTextSplitter(        \n",
    "    separator = \"\\n\\n\",\n",
    "    chunk_size = 1000,\n",
    "    chunk_overlap  = 200,\n",
    "    length_function = len,\n",
    ")"
   ]
  },
  {
   "cell_type": "code",
   "execution_count": 64,
   "id": "3ff44ad0",
   "metadata": {},
   "outputs": [
    {
     "name": "stdout",
     "output_type": "stream",
     "text": [
      "<langchain.vectorstores.chroma.Chroma object at 0x0000020CE7BA6E00>\n",
      "<langchain.vectorstores.chroma.Chroma object at 0x0000020CE7BA6E00>\n"
     ]
    }
   ],
   "source": [
    "persist_directory = 'db'\n",
    "for document in loaders:\n",
    "    data = document.load()\n",
    "    texts = text_splitter.split_documents(data)\n",
    "    embeddings = OpenAIEmbeddings()\n",
    "    \n",
    "    vectordb = Chroma.from_documents(documents=texts, \n",
    "                                 embedding=embeddings,\n",
    "                                 persist_directory=persist_directory)\n",
    "    vectordb.persist()\n",
    "    vectordb = Chroma(persist_directory=persist_directory, \n",
    "                  embedding_function=embeddings)\n",
    "    print(db)"
   ]
  },
  {
   "cell_type": "code",
   "execution_count": 57,
   "id": "6a9ce3de",
   "metadata": {},
   "outputs": [],
   "source": [
    "retriever = db.as_retriever()\n",
    "qa = RetrievalQA.from_chain_type(llm=OpenAI(model_name=\"gpt-3.5-turbo\"), chain_type=\"stuff\", retriever=retriever)"
   ]
  },
  {
   "cell_type": "code",
   "execution_count": 58,
   "id": "5c3111bd",
   "metadata": {},
   "outputs": [
    {
     "name": "stderr",
     "output_type": "stream",
     "text": [
      "Number of requested results 4 is greater than number of elements in index 3, updating n_results = 3\n",
      "Error in LangChainTracerV1.on_chain_end callback: Unknown run type: retriever\n"
     ]
    },
    {
     "name": "stdout",
     "output_type": "stream",
     "text": [
      "Based on the given context, it is not possible to determine the applications of artificial intelligence.\n",
      "Tokens Used: 526\n",
      "\tPrompt Tokens: 508\n",
      "\tCompletion Tokens: 18\n",
      "Successful Requests: 1\n",
      "Total Cost (USD): $0.000798\n"
     ]
    }
   ],
   "source": [
    "with get_openai_callback() as cb:\n",
    "    response = \n",
    "    print(response)\n",
    "    print(cb)"
   ]
  },
  {
   "cell_type": "code",
   "execution_count": 60,
   "id": "a5992035",
   "metadata": {},
   "outputs": [
    {
     "name": "stdout",
     "output_type": "stream",
     "text": [
      "<langchain.vectorstores.chroma.Chroma object at 0x0000020CE7BA6E00>\n"
     ]
    }
   ],
   "source": [
    "print(db)"
   ]
  },
  {
   "cell_type": "code",
   "execution_count": 59,
   "id": "3f527d57",
   "metadata": {},
   "outputs": [
    {
     "name": "stderr",
     "output_type": "stream",
     "text": [
      "Number of requested results 4 is greater than number of elements in index 3, updating n_results = 3\n",
      "Error in LangChainTracerV1.on_chain_end callback: Unknown run type: retriever\n"
     ]
    },
    {
     "data": {
      "text/plain": [
       "'Based on the provided context, there is no information about the applications of artificial intelligence (AI) in the given context. Therefore, the answer is \"I don\\'t know.\"'"
      ]
     },
     "execution_count": 59,
     "metadata": {},
     "output_type": "execute_result"
    }
   ],
   "source": [
    "qa.run(\"applications of artificial inteligence\")"
   ]
  },
  {
   "cell_type": "code",
   "execution_count": 65,
   "id": "767f0323",
   "metadata": {},
   "outputs": [],
   "source": [
    "retriever = vectordb.as_retriever()"
   ]
  },
  {
   "cell_type": "code",
   "execution_count": 66,
   "id": "0c9ce37a",
   "metadata": {},
   "outputs": [],
   "source": [
    "qa_chain = RetrievalQA.from_chain_type(llm=OpenAI(), \n",
    "                                  chain_type=\"stuff\", \n",
    "                                  retriever=retriever, \n",
    "                                  return_source_documents=True)"
   ]
  },
  {
   "cell_type": "code",
   "execution_count": 67,
   "id": "93dbc7f5",
   "metadata": {},
   "outputs": [],
   "source": [
    "def process_llm_response(llm_response):\n",
    "    print(llm_response['result'])\n",
    "    print('\\n\\nSources:')\n",
    "    for source in llm_response[\"source_documents\"]:\n",
    "        print(source.metadata['source'])"
   ]
  },
  {
   "cell_type": "code",
   "execution_count": 70,
   "id": "966e6bb1",
   "metadata": {},
   "outputs": [
    {
     "name": "stderr",
     "output_type": "stream",
     "text": [
      "Error in LangChainTracerV1.on_chain_end callback: Unknown run type: retriever\n"
     ]
    },
    {
     "name": "stdout",
     "output_type": "stream",
     "text": [
      " Some applications of artificial intelligence include voice recognition, virtual agents, machine learning platforms, AI optimized hardware, decision management, deep learning platforms, biomatters, robotic process automation, text analytics and NLP, and adaptive manufacturing.\n",
      "\n",
      "\n",
      "Sources:\n",
      "data/ArtificialIntellegence.pdf\n",
      "data/ArtificialIntellegence.pdf\n",
      "data/ArtificialIntellegence.pdf\n",
      "data/ArtificialIntellegence.pdf\n",
      "Tokens Used: 1126\n",
      "\tPrompt Tokens: 1082\n",
      "\tCompletion Tokens: 44\n",
      "Successful Requests: 1\n",
      "Total Cost (USD): $0.022520000000000002\n"
     ]
    }
   ],
   "source": [
    "with get_openai_callback() as cb:\n",
    "    query = \"applications of artificial inteligence\"\n",
    "    llm_response = qa_chain(query)\n",
    "    process_llm_response(llm_response)\n",
    "    print(cb)"
   ]
  },
  {
   "cell_type": "code",
   "execution_count": null,
   "id": "1af943ec",
   "metadata": {},
   "outputs": [],
   "source": []
  },
  {
   "cell_type": "code",
   "execution_count": null,
   "id": "a630f9b6",
   "metadata": {},
   "outputs": [],
   "source": []
  },
  {
   "cell_type": "code",
   "execution_count": null,
   "id": "56f3fd65",
   "metadata": {},
   "outputs": [],
   "source": []
  },
  {
   "cell_type": "code",
   "execution_count": null,
   "id": "3afd02fd",
   "metadata": {},
   "outputs": [],
   "source": []
  },
  {
   "cell_type": "code",
   "execution_count": null,
   "id": "75a5ca21",
   "metadata": {},
   "outputs": [],
   "source": []
  },
  {
   "cell_type": "code",
   "execution_count": null,
   "id": "dfdec267",
   "metadata": {},
   "outputs": [],
   "source": []
  },
  {
   "cell_type": "code",
   "execution_count": null,
   "id": "12d58025",
   "metadata": {},
   "outputs": [],
   "source": []
  },
  {
   "cell_type": "code",
   "execution_count": null,
   "id": "81bd55a5",
   "metadata": {},
   "outputs": [],
   "source": []
  },
  {
   "cell_type": "code",
   "execution_count": null,
   "id": "77405b59",
   "metadata": {},
   "outputs": [],
   "source": []
  }
 ],
 "metadata": {
  "kernelspec": {
   "display_name": "Python 3 (ipykernel)",
   "language": "python",
   "name": "python3"
  },
  "language_info": {
   "codemirror_mode": {
    "name": "ipython",
    "version": 3
   },
   "file_extension": ".py",
   "mimetype": "text/x-python",
   "name": "python",
   "nbconvert_exporter": "python",
   "pygments_lexer": "ipython3",
   "version": "3.10.9"
  }
 },
 "nbformat": 4,
 "nbformat_minor": 5
}
